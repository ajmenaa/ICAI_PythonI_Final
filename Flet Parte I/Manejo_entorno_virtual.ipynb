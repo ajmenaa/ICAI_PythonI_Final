{
 "cells": [
  {
   "cell_type": "markdown",
   "metadata": {},
   "source": [
    "## Crear un entorno virtual:\n",
    "\n",
    "1. Abre Visual Studio Code.\n",
    "2. Abre tu carpeta de proyecto o crea una nueva carpeta para tu proyecto.\n",
    "3. Abre una nueva terminal en Visual Studio Code haciendo clic en \"Terminal\" en la barra de menú y luego en \"Nueva Terminal\".\n",
    "4. En la terminal, ejecuta el siguiente comando para crear un entorno \n",
    "\n",
    "<blockquote>\n",
    "<h4>Crear</h4>\n",
    "<p>\n",
    "python -m venv nombre_del_entorno\n",
    "\n",
    "</p>\n",
    "</blockquote>\n",
    "\n",
    "Cuando creas en entorno en Visual Studio Code y accedes a un proyecto Python, a menudo se te preguntará si deseas activar el entorno virtual para ese proyecto. Generalmente, es recomendable aceptar esta opción, ya que activar el entorno virtual asegura que las bibliotecas y dependencias específicas del proyecto se utilicen correctamente"
   ]
  },
  {
   "cell_type": "markdown",
   "metadata": {},
   "source": [
    "## Activar el entorno virtual:\n",
    "\n",
    "En la misma terminal, ejecuta el comando adecuado según tu sistema operativo:\n",
    "\n",
    "\n",
    "<blockquote>\n",
    "<h4>En Windows:</h4>\n",
    "<p>\n",
    "nombre_del_entorno\\Scripts\\activate\n",
    "\n",
    "**.\\venv\\Scripts\\activate**\n",
    "\n",
    "</p>\n",
    "</blockquote>\n",
    "\n",
    "\n",
    "<blockquote>\n",
    "<h4>En macOS y Linux:</h4>\n",
    "<p>\n",
    "source nombre_del_entorno/bin/activate\n",
    "</p>\n",
    "</blockquote"
   ]
  },
  {
   "cell_type": "markdown",
   "metadata": {},
   "source": [
    "## Instalar paquetes en el entorno virtual:\n",
    "\n",
    "Una vez que el entorno virtual esté activado, puedes instalar paquetes utilizando pip, el gestor de paquetes de Python.Por ejemplo, para instalar un paquete llamado \"nombre_paquete\", ejecuta el siguiente comando en la terminal:\n",
    "\n",
    ">\n",
    ">pip install nombre_paquete\n",
    ">"
   ]
  },
  {
   "cell_type": "markdown",
   "metadata": {},
   "source": [
    "## Exportar los requisitos del proyecto:\n",
    "\n",
    "Para exportar los requisitos de tu proyecto (es decir, los paquetes instalados junto con sus versiones), puedes utilizar el siguiente comando en la terminal:\n",
    "\n",
    "> pip list\n",
    "\n",
    "> pip freeze > requirements.txt"
   ]
  },
  {
   "cell_type": "markdown",
   "metadata": {},
   "source": [
    "## Instalar los paquetes del archivo requirements.txt:\n",
    "\n",
    "Una vez que hayas revisado los paquetes en el archivo requirements.txt, puedes instalarlos en un nuevo entorno virtual.\n",
    "\n",
    "1. Primero, crea un nuevo entorno virtual siguiendo los pasos anteriores.\n",
    "\n",
    "2. Activa el entorno virtual.\n",
    "\n",
    "3. Ejecuta el siguiente comando en la terminal para instalar los paquetes especificados en el archivo requirements.txt:\n",
    "\n",
    "> pip install -r requirements.txt"
   ]
  },
  {
   "cell_type": "markdown",
   "metadata": {},
   "source": [
    "## Desactivar el entorno virtual:\n",
    "\n",
    "Para desactivar el entorno virtual cuando hayas terminado de trabajar en tu proyecto, simplemente ejecuta el siguiente comando en la terminal:\n",
    "\n",
    "> deactivate\n",
    "\n",
    "Esto cerrará el entorno virtual y restaurará el entorno de Python global."
   ]
  }
 ],
 "metadata": {
  "language_info": {
   "name": "python"
  }
 },
 "nbformat": 4,
 "nbformat_minor": 2
}
